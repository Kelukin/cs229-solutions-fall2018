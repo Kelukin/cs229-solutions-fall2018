{
 "cells": [
  {
   "cell_type": "markdown",
   "metadata": {
    "collapsed": true,
    "pycharm": {
     "name": "#%% md\n"
    }
   },
   "source": [
    "## PS4-2 Off Policy Evaluation And Causal Inference"
   ]
  },
  {
   "cell_type": "markdown",
   "source": [
    "#### (a) Importance Sampling"
   ],
   "metadata": {
    "collapsed": false,
    "pycharm": {
     "name": "#%% md\n"
    }
   }
  },
  {
   "cell_type": "markdown",
   "source": [
    "If $\\hat{\\pi}_0 = \\pi_0$,\n",
    "\n",
    "\\begin{align*}\n",
    "\\mathbb{E}_{s \\sim p(s); \\ a \\sim \\pi_0 (s, a)} \\frac{\\pi_1 (s, a)}{\\hat{\\pi}_0 (s, a)} R(s, a)\n",
    "    & = \\sum_{(s, a)} \\frac{\\pi_1 (s, a)}{\\hat{\\pi}_0 (s, a)} R(s, a) p(s) \\pi_0 (s, a) \\\\\n",
    "    & = \\sum_{(s, a)} R(s, a) p(s) \\pi_1 (s, a) \\\\\n",
    "    & = \\mathbb{E}_{s \\sim p(s); \\ a \\sim \\pi_1 (s, a)} R(s, a)\n",
    "\\end{align*}"
   ],
   "metadata": {
    "collapsed": false,
    "pycharm": {
     "name": "#%% md\n"
    }
   }
  },
  {
   "cell_type": "markdown",
   "source": [
    "#### (b) Weighted Importance Sampling"
   ],
   "metadata": {
    "collapsed": false,
    "pycharm": {
     "name": "#%% md\n"
    }
   }
  },
  {
   "cell_type": "markdown",
   "source": [
    "If $\\hat{\\pi}_0 = \\pi_0$,\n",
    "\n",
    "\\begin{align*}\n",
    "\\mathbb{E}_{s \\sim p(s); \\ a \\sim \\pi_0 (s, a)} \\frac{\\pi_1 (s, a)}{\\hat{\\pi}_0 (s, a)}\n",
    "    & = \\sum_{(s, a)} \\frac{\\pi_1 (s, a)}{\\hat{\\pi}_0 (s, a)} p(s) \\pi_0 (s, a) \\\\\n",
    "    & = \\sum_{(s, a)} p(s) \\pi_1 (s, a) \\\\\n",
    "    & = 1\n",
    "\\end{align*}\n",
    "\n",
    "Therefore,\n",
    "\n",
    "$$\\frac{\\mathbb{E}_{s \\sim p(s); \\ a \\sim \\pi_0 (s, a)} \\frac{\\pi_1 (s, a)}{\\hat{\\pi}_0 (s, a)} R(s, a)}{\\mathbb{E}_{s \\sim p(s); \\ a \\sim \\pi_0 (s, a)} \\frac{\\pi_1 (s, a)}{\\hat{\\pi}_0 (s, a)}} = \\mathbb{E}_{s \\sim p(s); \\ a \\sim \\pi_1 (s, a)} R(s, a)$$"
   ],
   "metadata": {
    "collapsed": false,
    "pycharm": {
     "name": "#%% md\n"
    }
   }
  },
  {
   "cell_type": "markdown",
   "source": [
    "#### (c)\n",
    "\n",
    "When the dataset has only one example,\n",
    "\n",
    "\\begin{align*}\n",
    "\\frac{\\mathbb{E}_{s \\sim p(s); \\ a \\sim \\pi_0 (s, a)} \\frac{\\pi_1 (s, a)}{\\hat{\\pi}_0 (s, a)} R(s, a)}{\\mathbb{E}_{s \\sim p(s); \\ a \\sim \\pi_0 (s, a)} \\frac{\\pi_1 (s, a)}{\\hat{\\pi}_0 (s, a)}}\n",
    "    & = \\frac{\\frac{\\pi_1 (s, a)}{\\hat{\\pi}_0 (s, a)} R(s, a) p(s) \\pi_0 (s, a)}{\\frac{\\pi_1 (s, a)}{\\hat{\\pi}_0 (s, a)} p(s) \\pi_0 (s, a)} \\\\\n",
    "    & = R(s, a) \\\\\n",
    "    & \\ne \\mathbb{E}_{s \\sim p(s); \\ a \\sim \\pi_0 (s, a)} R(s, a)\n",
    "\\end{align*}\n",
    "\n",
    "in general cases."
   ],
   "metadata": {
    "collapsed": false,
    "pycharm": {
     "name": "#%% md\n"
    }
   }
  },
  {
   "cell_type": "markdown",
   "source": [
    "#### (d) Doubly Robust"
   ],
   "metadata": {
    "collapsed": false,
    "pycharm": {
     "name": "#%% md\n"
    }
   }
  },
  {
   "cell_type": "markdown",
   "source": [
    "##### i."
   ],
   "metadata": {
    "collapsed": false,
    "pycharm": {
     "name": "#%% md\n"
    }
   }
  },
  {
   "cell_type": "markdown",
   "source": [
    "When $\\hat{\\pi}_0 = \\pi_0$,\n",
    "\n",
    "\\begin{align*}\n",
    "\\mathbb{E}_{s \\sim p(s); \\ a \\sim \\pi_0 (s, a)} ((\\mathbb{E}_{a \\sim \\pi_1 (s, a)} \\hat{R}(s, a)) + \\frac{\\pi_1 (s, a)}{\\hat{\\pi}_0 (s, a)} (R(s, a) - \\hat{R}(s, a)))\n",
    "    & = \\mathbb{E}_{s \\sim p(s); \\ a \\sim \\pi_0 (s, a)} (\\mathbb{E}_{a \\sim \\pi_1 (s, a)} \\hat{R}(s, a)) + \\mathbb{E}_{s \\sim p(s); \\ a \\sim \\pi_1 (s, a)} R(s, a) - \\mathbb{E}_{s \\sim p(s); \\ a \\sim \\pi_1 (s, a)} \\hat{R}(s, a) \\\\\n",
    "    & = \\mathbb{E}_{s \\sim p(s); \\ a \\sim \\pi_1 (s, a)} \\hat{R}(s, a) + \\mathbb{E}_{s \\sim p(s); \\ a \\sim \\pi_1 (s, a)} R(s, a) - \\mathbb{E}_{s \\sim p(s); \\ a \\sim \\pi_1 (s, a)} \\hat{R}(s, a) \\\\\n",
    "    & = \\mathbb{E}_{s \\sim p(s); \\ a \\sim \\pi_1 (s, a)} R(s, a)\n",
    "\\end{align*}"
   ],
   "metadata": {
    "collapsed": false,
    "pycharm": {
     "name": "#%% md\n"
    }
   }
  },
  {
   "cell_type": "markdown",
   "source": [
    "##### ii."
   ],
   "metadata": {
    "collapsed": false,
    "pycharm": {
     "name": "#%% md\n"
    }
   }
  },
  {
   "cell_type": "markdown",
   "source": [
    "When $\\hat{R}(s, a) = R(s, a)$,\n",
    "\n",
    "\\begin{align*}\n",
    "\\mathbb{E}_{s \\sim p(s); \\ a \\sim \\pi_0 (s, a)} ((\\mathbb{E}_{a \\sim \\pi_1 (s, a)} \\hat{R}(s, a)) + \\frac{\\pi_1 (s, a)}{\\hat{\\pi}_0 (s, a)} (R(s, a) - \\hat{R}(s, a)))\n",
    "    & = \\mathbb{E}_{s \\sim p(s); \\ a \\sim \\pi_0 (s, a)} (\\mathbb{E}_{a \\sim \\pi_1 (s, a)} \\hat{R}(s, a)) \\\\\n",
    "    & = \\mathbb{E}_{s \\sim p(s); \\ a \\sim \\pi_1 (s, a)} R(s, a)\n",
    "\\end{align*}"
   ],
   "metadata": {
    "collapsed": false,
    "pycharm": {
     "name": "#%% md\n"
    }
   }
  },
  {
   "cell_type": "markdown",
   "source": [
    "#### (e)"
   ],
   "metadata": {
    "collapsed": false,
    "pycharm": {
     "name": "#%% md\n"
    }
   }
  },
  {
   "cell_type": "markdown",
   "source": [
    "##### i."
   ],
   "metadata": {
    "collapsed": false,
    "pycharm": {
     "name": "#%% md\n"
    }
   }
  },
  {
   "cell_type": "markdown",
   "source": [
    "Importance Sampling estimator. Because the policy is simpler."
   ],
   "metadata": {
    "collapsed": false,
    "pycharm": {
     "name": "#%% md\n"
    }
   }
  },
  {
   "cell_type": "markdown",
   "source": [
    "##### ii."
   ],
   "metadata": {
    "collapsed": false,
    "pycharm": {
     "name": "#%% md\n"
    }
   }
  },
  {
   "cell_type": "markdown",
   "source": [
    "Regression estimator. Because the reward function is simpler."
   ],
   "metadata": {
    "collapsed": false,
    "pycharm": {
     "name": "#%% md\n"
    }
   }
  }
 ],
 "metadata": {
  "kernelspec": {
   "display_name": "Python 3",
   "language": "python",
   "name": "python3"
  },
  "language_info": {
   "codemirror_mode": {
    "name": "ipython",
    "version": 2
   },
   "file_extension": ".py",
   "mimetype": "text/x-python",
   "name": "python",
   "nbconvert_exporter": "python",
   "pygments_lexer": "ipython2",
   "version": "2.7.6"
  }
 },
 "nbformat": 4,
 "nbformat_minor": 0
}